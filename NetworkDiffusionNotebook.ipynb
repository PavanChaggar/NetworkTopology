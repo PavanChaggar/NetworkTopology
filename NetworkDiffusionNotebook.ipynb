{
 "cells": [
  {
   "cell_type": "code",
   "execution_count": 1,
   "metadata": {},
   "outputs": [],
   "source": [
    "using Pkg"
   ]
  },
  {
   "cell_type": "code",
   "execution_count": 2,
   "metadata": {},
   "outputs": [
    {
     "output_type": "stream",
     "name": "stdout",
     "text": [
      "\u001b[32m\u001b[1mStatus\u001b[22m\u001b[39m `~/Projects/NetworkTopology/Project.toml`\n",
      " \u001b[90m [76274a88] \u001b[39m\u001b[37mBijectors v0.8.14\u001b[39m\n",
      " \u001b[90m [717857b8] \u001b[39m\u001b[37mDSP v0.6.10\u001b[39m\n",
      " \u001b[90m [41bf760c] \u001b[39m\u001b[37mDiffEqSensitivity v6.41.0\u001b[39m\n",
      " \u001b[90m [0c46a032] \u001b[39m\u001b[37mDifferentialEquations v6.16.0\u001b[39m\n",
      " \u001b[90m [31c24e10] \u001b[39m\u001b[37mDistributions v0.24.13\u001b[39m\n",
      " \u001b[90m [7073ff75] \u001b[39m\u001b[37mIJulia v1.23.1\u001b[39m\n",
      " \u001b[90m [093fc24a] \u001b[39m\u001b[37mLightGraphs v1.3.5\u001b[39m\n",
      " \u001b[90m [c7f686f2] \u001b[39m\u001b[37mMCMCChains v4.7.0\u001b[39m\n",
      " \u001b[90m [6741aa20] \u001b[39m\u001b[37mNeptune v0.14.0\u001b[39m\n",
      " \u001b[90m [91a5bcdd] \u001b[39m\u001b[37mPlots v1.10.4\u001b[39m\n",
      " \u001b[90m [c3e4b0f8] \u001b[39m\u001b[37mPluto v0.12.20\u001b[39m\n",
      " \u001b[90m [7f904dfe] \u001b[39m\u001b[37mPlutoUI v0.7.1\u001b[39m\n",
      " \u001b[90m [ce6b1742] \u001b[39m\u001b[37mRDatasets v0.7.4\u001b[39m\n",
      " \u001b[90m [37e2e3b7] \u001b[39m\u001b[37mReverseDiff v1.5.0\u001b[39m\n",
      " \u001b[90m [f3b207a7] \u001b[39m\u001b[37mStatsPlots v0.14.19\u001b[39m\n",
      " \u001b[90m [fce5fe82] \u001b[39m\u001b[37mTuring v0.15.10\u001b[39m\n",
      " \u001b[90m [e88e6eb3] \u001b[39m\u001b[37mZygote v0.6.3\u001b[39m\n"
     ]
    }
   ],
   "source": [
    "Pkg.status();"
   ]
  },
  {
   "cell_type": "code",
   "execution_count": null,
   "metadata": {},
   "outputs": [],
   "source": []
  }
 ],
 "metadata": {
  "kernelspec": {
   "name": "julia-1.5",
   "display_name": "Julia 1.5.3",
   "language": "julia"
  }
 },
 "nbformat": 4,
 "nbformat_minor": 4
}