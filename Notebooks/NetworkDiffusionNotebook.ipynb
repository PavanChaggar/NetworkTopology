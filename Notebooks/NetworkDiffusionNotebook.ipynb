{
 "cells": [
  {
   "source": [
    "# Testing inference on Network Diffusion \n",
    "\n",
    "Here, I will examine the utility of sampling and variational inference for inferring values from a simple network diffusion model on Erdos-Renyi random graphs. The primary aim of this document is to assess how well inference can scale as the network grows in size and as topology -- in this case, connection probability -- change. "
   ],
   "cell_type": "markdown",
   "metadata": {}
  },
  {
   "source": [
    "### Environment\n",
    "First, check environment to ensure all packages needed are present and document their versions. "
   ],
   "cell_type": "markdown",
   "metadata": {}
  },
  {
   "cell_type": "code",
   "execution_count": 4,
   "metadata": {},
   "outputs": [],
   "source": [
    "using Pkg"
   ]
  },
  {
   "cell_type": "code",
   "execution_count": 5,
   "metadata": {},
   "outputs": [
    {
     "output_type": "stream",
     "name": "stdout",
     "text": [
      "\u001b[32m\u001b[1mStatus\u001b[22m\u001b[39m `~/Projects/NetworkTopology/Project.toml`\n \u001b[90m [76274a88] \u001b[39m\u001b[37mBijectors v0.8.14\u001b[39m\n \u001b[90m [0c46a032] \u001b[39m\u001b[37mDifferentialEquations v6.16.0\u001b[39m\n \u001b[90m [31c24e10] \u001b[39m\u001b[37mDistributions v0.24.13\u001b[39m\n \u001b[90m [7073ff75] \u001b[39m\u001b[37mIJulia v1.23.1\u001b[39m\n \u001b[90m [093fc24a] \u001b[39m\u001b[37mLightGraphs v1.3.5\u001b[39m\n \u001b[90m [c7f686f2] \u001b[39m\u001b[37mMCMCChains v4.7.0\u001b[39m\n \u001b[90m [91a5bcdd] \u001b[39m\u001b[37mPlots v1.10.4\u001b[39m\n \u001b[90m [37e2e3b7] \u001b[39m\u001b[37mReverseDiff v1.5.0\u001b[39m\n \u001b[90m [f3b207a7] \u001b[39m\u001b[37mStatsPlots v0.14.19\u001b[39m\n \u001b[90m [fce5fe82] \u001b[39m\u001b[37mTuring v0.15.10\u001b[39m\n \u001b[90m [e88e6eb3] \u001b[39m\u001b[37mZygote v0.6.3\u001b[39m\n"
     ]
    }
   ],
   "source": [
    "Pkg.status();"
   ]
  },
  {
   "source": [
    "### Model Setup \n",
    "\n",
    "The first step in defining our model will be to initialise a graph on which to run the model. We do this using `LightGraphs` to generate a Erdos-Renyi random graph of size `N`. "
   ],
   "cell_type": "markdown",
   "metadata": {}
  },
  {
   "cell_type": "code",
   "execution_count": 7,
   "metadata": {},
   "outputs": [
    {
     "output_type": "stream",
     "name": "stderr",
     "text": [
      "┌ Info: Precompiling LightGraphs [093fc24a-ae57-5d10-9952-331d41423f4d]\n└ @ Base loading.jl:1278\n"
     ]
    }
   ],
   "source": [
    "using LightGraphs\n",
    "\n",
    "N = 5\n",
    "P = 0.5\n",
    "\n",
    "G = erdos_renyi(N, P);\n",
    "L = laplacian_matrix(G);"
   ]
  },
  {
   "source": [
    "The second step of the modelling process will be to define the ODE model. For network diffusion, this is given by: \n",
    "\n",
    "$$ \\frac{d\\mathbf{u}}{dt} = -\\rho \\mathbf{L} \\mathbf{u} $$ \n",
    "\n",
    "We can set this up as a julia function as follows:"
   ],
   "cell_type": "markdown",
   "metadata": {}
  },
  {
   "cell_type": "code",
   "execution_count": 6,
   "metadata": {},
   "outputs": [
    {
     "output_type": "execute_result",
     "data": {
      "text/plain": [
       "NetworkDiffusion (generic function with 1 method)"
      ]
     },
     "metadata": {},
     "execution_count": 6
    }
   ],
   "source": [
    "NetworkDiffusion(u, p, t) = -p * L * u"
   ]
  },
  {
   "source": [
    "To run a simulation, we set some initial conditions and define an `ODEProblem` using `DifferentialEquations`"
   ],
   "cell_type": "markdown",
   "metadata": {}
  },
  {
   "cell_type": "code",
   "execution_count": 10,
   "metadata": {},
   "outputs": [],
   "source": [
    "u0 = rand(N)\n",
    "p = 2.0 \n",
    "t_span = (0.0,1.0);\n"
   ]
  },
  {
   "cell_type": "code",
   "execution_count": 14,
   "metadata": {},
   "outputs": [
    {
     "output_type": "execute_result",
     "data": {
      "text/plain": [
       "retcode: Success\n",
       "Interpolation: 1st order linear\n",
       "t: 21-element Array{Float64,1}:\n",
       " 0.0\n",
       " 0.05\n",
       " 0.1\n",
       " 0.15\n",
       " 0.2\n",
       " 0.25\n",
       " 0.3\n",
       " 0.35\n",
       " 0.4\n",
       " 0.45\n",
       " 0.5\n",
       " 0.55\n",
       " 0.6\n",
       " 0.65\n",
       " 0.7\n",
       " 0.75\n",
       " 0.8\n",
       " 0.85\n",
       " 0.9\n",
       " 0.95\n",
       " 1.0\n",
       "u: 21-element Array{Array{Float64,1},1}:\n",
       " [0.6257917078751645, 0.07217480676699561, 0.4505773085190672, 0.43029838343893534, 0.10786392392132527]\n",
       " [0.5122950028113811, 0.14721969625786693, 0.4315982335201711, 0.3937225004492241, 0.20187069748284486]\n",
       " [0.44345463482663255, 0.1980466216169032, 0.4138287803308324, 0.37153773972895626, 0.2598383540181636]\n",
       " [0.4017016625427205, 0.2332213124415705, 0.39846172823703885, 0.35808226692143474, 0.2952391603787235]\n",
       " [0.37637772781787593, 0.2581146033535708, 0.38574228061554433, 0.34992127869878575, 0.3165502400357113]\n",
       " [0.3610196681446935, 0.27612624180308853, 0.37548493976035086, 0.34497193155042905, 0.3291033492629263]\n",
       " [0.35169948393176753, 0.28943879840726194, 0.3673440383032259, 0.34196837327952634, 0.33625543659970664]\n",
       " [0.3460530990881128, 0.2994635166192619, 0.36094087300780625, 0.3401487476680133, 0.34009989413829383]\n",
       " [0.34262165429619396, 0.30714602605637653, 0.3559317137099724, 0.3390429171232028, 0.3419638193357425]\n",
       " [0.34054774287463835, 0.3131116372194443, 0.35201871948979546, 0.3383745704831554, 0.34265346045445455]\n",
       " [0.3392818344042545, 0.31780561614988556, 0.3489632854005777, 0.33796661396968275, 0.34268878059708757]\n",
       " [0.33852287724900026, 0.3215261459023733, 0.34657224386626556, 0.33772202952919905, 0.34236283397464995]\n",
       " [0.3380547016599249, 0.3245051050567922, 0.3446968263937743, 0.3375711534702417, 0.3418783439407549]\n",
       " [0.3377736582404697, 0.32689872631652933, 0.3432211537331411, 0.33748058334118597, 0.34133200889016196]\n",
       " [0.33760728383177424, 0.3288302199112063, 0.3420557298503958, 0.33742696688684487, 0.34078593004126706]\n",
       " [0.3374997565760191, 0.33039954408747085, 0.34113108447009316, 0.3373923147414587, 0.34028343064644656]\n",
       " [0.33743652426844295, 0.3316730854949122, 0.3403959414134065, 0.33737193725577075, 0.339828642088956]\n",
       " [0.3374021934545121, 0.33270768709793125, 0.3398097155957093, 0.3373608736761493, 0.3394256606971863]\n",
       " [0.3373786930618089, 0.3335530732055359, 0.3393395178806295, 0.3373533003495647, 0.3390815460239494]\n",
       " [0.3373639108661273, 0.33424327503069357, 0.33896163589676015, 0.3373485365825523, 0.338788772145355]\n",
       " [0.3373551072775948, 0.33480686619348554, 0.3386572668953584, 0.3373456995043845, 0.33854119065066496]"
      ]
     },
     "metadata": {},
     "execution_count": 14
    }
   ],
   "source": [
    "using DifferentialEquations\n",
    "\n",
    "problem = ODEProblem(NetworkDiffusion, eltype(p).(u0), (0.0,1.0), p);\n",
    "sol = solve(problem, Tsit5(), saveat=0.05)"
   ]
  },
  {
   "source": [
    "And we can view the solution. "
   ],
   "cell_type": "markdown",
   "metadata": {}
  },
  {
   "cell_type": "code",
   "execution_count": 15,
   "metadata": {},
   "outputs": [
    {
     "output_type": "execute_result",
     "data": {
      "text/html": "<!DOCTYPE html>\n<html>\n    <head>\n        <title>Plots.jl</title>\n        <meta http-equiv=\"content-type\" content=\"text/html; charset=UTF-8\">\n        \n    </head>\n    <body>\n            <div id=\"6207cd1b-1c5b-4c68-8009-3bf35f5d28d7\" style=\"width:600px;height:400px;\"></div>\n    <script>\n        requirejs.config({\n        paths: {\n            Plotly: 'https://cdn.plot.ly/plotly-1.57.1.min'\n        }\n    });\n    require(['Plotly'], function (Plotly) {\n\n    PLOT = document.getElementById('6207cd1b-1c5b-4c68-8009-3bf35f5d28d7');\n    Plotly.plot(PLOT, [\n    {\n        \"xaxis\": \"x\",\n        \"colorbar\": {\n            \"title\": \"\"\n        },\n        \"yaxis\": \"y\",\n        \"x\": [\n            0.0,\n            0.05,\n            0.1,\n            0.15,\n            0.2,\n            0.25,\n            0.3,\n            0.35,\n            0.4,\n            0.45,\n            0.5,\n            0.55,\n            0.6,\n            0.65,\n            0.7,\n            0.75,\n            0.8,\n            0.85,\n            0.9,\n            0.95,\n            1.0\n        ],\n        \"showlegend\": true,\n        \"mode\": \"lines\",\n        \"name\": \"u1(t)\",\n        \"zmin\": null,\n        \"legendgroup\": \"u1(t)\",\n        \"zmax\": null,\n        \"line\": {\n            \"color\": \"rgba(0, 154, 250, 1.000)\",\n            \"shape\": \"linear\",\n            \"dash\": \"solid\",\n            \"width\": 1\n        },\n        \"y\": [\n            0.6257917078751645,\n            0.5122950028113811,\n            0.44345463482663255,\n            0.4017016625427205,\n            0.37637772781787593,\n            0.3610196681446935,\n            0.35169948393176753,\n            0.3460530990881128,\n            0.34262165429619396,\n            0.34054774287463835,\n            0.3392818344042545,\n            0.33852287724900026,\n            0.3380547016599249,\n            0.3377736582404697,\n            0.33760728383177424,\n            0.3374997565760191,\n            0.33743652426844295,\n            0.3374021934545121,\n            0.3373786930618089,\n            0.3373639108661273,\n            0.3373551072775948\n        ],\n        \"type\": \"scatter\"\n    },\n    {\n        \"xaxis\": \"x\",\n        \"colorbar\": {\n            \"title\": \"\"\n        },\n        \"yaxis\": \"y\",\n        \"x\": [\n            0.0,\n            0.05,\n            0.1,\n            0.15,\n            0.2,\n            0.25,\n            0.3,\n            0.35,\n            0.4,\n            0.45,\n            0.5,\n            0.55,\n            0.6,\n            0.65,\n            0.7,\n            0.75,\n            0.8,\n            0.85,\n            0.9,\n            0.95,\n            1.0\n        ],\n        \"showlegend\": true,\n        \"mode\": \"lines\",\n        \"name\": \"u2(t)\",\n        \"zmin\": null,\n        \"legendgroup\": \"u2(t)\",\n        \"zmax\": null,\n        \"line\": {\n            \"color\": \"rgba(227, 111, 71, 1.000)\",\n            \"shape\": \"linear\",\n            \"dash\": \"solid\",\n            \"width\": 1\n        },\n        \"y\": [\n            0.07217480676699561,\n            0.14721969625786693,\n            0.1980466216169032,\n            0.2332213124415705,\n            0.2581146033535708,\n            0.27612624180308853,\n            0.28943879840726194,\n            0.2994635166192619,\n            0.30714602605637653,\n            0.3131116372194443,\n            0.31780561614988556,\n            0.3215261459023733,\n            0.3245051050567922,\n            0.32689872631652933,\n            0.3288302199112063,\n            0.33039954408747085,\n            0.3316730854949122,\n            0.33270768709793125,\n            0.3335530732055359,\n            0.33424327503069357,\n            0.33480686619348554\n        ],\n        \"type\": \"scatter\"\n    },\n    {\n        \"xaxis\": \"x\",\n        \"colorbar\": {\n            \"title\": \"\"\n        },\n        \"yaxis\": \"y\",\n        \"x\": [\n            0.0,\n            0.05,\n            0.1,\n            0.15,\n            0.2,\n            0.25,\n            0.3,\n            0.35,\n            0.4,\n            0.45,\n            0.5,\n            0.55,\n            0.6,\n            0.65,\n            0.7,\n            0.75,\n            0.8,\n            0.85,\n            0.9,\n            0.95,\n            1.0\n        ],\n        \"showlegend\": true,\n        \"mode\": \"lines\",\n        \"name\": \"u3(t)\",\n        \"zmin\": null,\n        \"legendgroup\": \"u3(t)\",\n        \"zmax\": null,\n        \"line\": {\n            \"color\": \"rgba(62, 164, 78, 1.000)\",\n            \"shape\": \"linear\",\n            \"dash\": \"solid\",\n            \"width\": 1\n        },\n        \"y\": [\n            0.4505773085190672,\n            0.4315982335201711,\n            0.4138287803308324,\n            0.39846172823703885,\n            0.38574228061554433,\n            0.37548493976035086,\n            0.3673440383032259,\n            0.36094087300780625,\n            0.3559317137099724,\n            0.35201871948979546,\n            0.3489632854005777,\n            0.34657224386626556,\n            0.3446968263937743,\n            0.3432211537331411,\n            0.3420557298503958,\n            0.34113108447009316,\n            0.3403959414134065,\n            0.3398097155957093,\n            0.3393395178806295,\n            0.33896163589676015,\n            0.3386572668953584\n        ],\n        \"type\": \"scatter\"\n    },\n    {\n        \"xaxis\": \"x\",\n        \"colorbar\": {\n            \"title\": \"\"\n        },\n        \"yaxis\": \"y\",\n        \"x\": [\n            0.0,\n            0.05,\n            0.1,\n            0.15,\n            0.2,\n            0.25,\n            0.3,\n            0.35,\n            0.4,\n            0.45,\n            0.5,\n            0.55,\n            0.6,\n            0.65,\n            0.7,\n            0.75,\n            0.8,\n            0.85,\n            0.9,\n            0.95,\n            1.0\n        ],\n        \"showlegend\": true,\n        \"mode\": \"lines\",\n        \"name\": \"u4(t)\",\n        \"zmin\": null,\n        \"legendgroup\": \"u4(t)\",\n        \"zmax\": null,\n        \"line\": {\n            \"color\": \"rgba(195, 113, 210, 1.000)\",\n            \"shape\": \"linear\",\n            \"dash\": \"solid\",\n            \"width\": 1\n        },\n        \"y\": [\n            0.43029838343893534,\n            0.3937225004492241,\n            0.37153773972895626,\n            0.35808226692143474,\n            0.34992127869878575,\n            0.34497193155042905,\n            0.34196837327952634,\n            0.3401487476680133,\n            0.3390429171232028,\n            0.3383745704831554,\n            0.33796661396968275,\n            0.33772202952919905,\n            0.3375711534702417,\n            0.33748058334118597,\n            0.33742696688684487,\n            0.3373923147414587,\n            0.33737193725577075,\n            0.3373608736761493,\n            0.3373533003495647,\n            0.3373485365825523,\n            0.3373456995043845\n        ],\n        \"type\": \"scatter\"\n    },\n    {\n        \"xaxis\": \"x\",\n        \"colorbar\": {\n            \"title\": \"\"\n        },\n        \"yaxis\": \"y\",\n        \"x\": [\n            0.0,\n            0.05,\n            0.1,\n            0.15,\n            0.2,\n            0.25,\n            0.3,\n            0.35,\n            0.4,\n            0.45,\n            0.5,\n            0.55,\n            0.6,\n            0.65,\n            0.7,\n            0.75,\n            0.8,\n            0.85,\n            0.9,\n            0.95,\n            1.0\n        ],\n        \"showlegend\": true,\n        \"mode\": \"lines\",\n        \"name\": \"u5(t)\",\n        \"zmin\": null,\n        \"legendgroup\": \"u5(t)\",\n        \"zmax\": null,\n        \"line\": {\n            \"color\": \"rgba(172, 142, 24, 1.000)\",\n            \"shape\": \"linear\",\n            \"dash\": \"solid\",\n            \"width\": 1\n        },\n        \"y\": [\n            0.10786392392132527,\n            0.20187069748284486,\n            0.2598383540181636,\n            0.2952391603787235,\n            0.3165502400357113,\n            0.3291033492629263,\n            0.33625543659970664,\n            0.34009989413829383,\n            0.3419638193357425,\n            0.34265346045445455,\n            0.34268878059708757,\n            0.34236283397464995,\n            0.3418783439407549,\n            0.34133200889016196,\n            0.34078593004126706,\n            0.34028343064644656,\n            0.339828642088956,\n            0.3394256606971863,\n            0.3390815460239494,\n            0.338788772145355,\n            0.33854119065066496\n        ],\n        \"type\": \"scatter\"\n    }\n]\n, {\n    \"showlegend\": true,\n    \"xaxis\": {\n        \"showticklabels\": true,\n        \"gridwidth\": 0.5,\n        \"tickvals\": [\n            0.0,\n            0.2,\n            0.4,\n            0.6000000000000001,\n            0.8,\n            1.0\n        ],\n        \"visible\": true,\n        \"ticks\": \"inside\",\n        \"range\": [\n            0.0,\n            1.0\n        ],\n        \"domain\": [\n            0.05100612423447069,\n            0.9934383202099737\n        ],\n        \"tickmode\": \"array\",\n        \"linecolor\": \"rgba(0, 0, 0, 1.000)\",\n        \"showgrid\": true,\n        \"title\": \"t\",\n        \"mirror\": false,\n        \"tickangle\": 0,\n        \"showline\": true,\n        \"gridcolor\": \"rgba(0, 0, 0, 0.100)\",\n        \"titlefont\": {\n            \"color\": \"rgba(0, 0, 0, 1.000)\",\n            \"family\": \"sans-serif\",\n            \"size\": 15\n        },\n        \"tickcolor\": \"rgb(0, 0, 0)\",\n        \"ticktext\": [\n            \"0.0\",\n            \"0.2\",\n            \"0.4\",\n            \"0.6\",\n            \"0.8\",\n            \"1.0\"\n        ],\n        \"zeroline\": false,\n        \"type\": \"-\",\n        \"tickfont\": {\n            \"color\": \"rgba(0, 0, 0, 1.000)\",\n            \"family\": \"sans-serif\",\n            \"size\": 11\n        },\n        \"zerolinecolor\": \"rgba(0, 0, 0, 1.000)\",\n        \"anchor\": \"y\"\n    },\n    \"paper_bgcolor\": \"rgba(255, 255, 255, 1.000)\",\n    \"annotations\": [],\n    \"height\": 400,\n    \"margin\": {\n        \"l\": 0,\n        \"b\": 20,\n        \"r\": 0,\n        \"t\": 20\n    },\n    \"plot_bgcolor\": \"rgba(255, 255, 255, 1.000)\",\n    \"yaxis\": {\n        \"showticklabels\": true,\n        \"gridwidth\": 0.5,\n        \"tickvals\": [\n            0.1,\n            0.2,\n            0.30000000000000004,\n            0.4,\n            0.5,\n            0.6000000000000001\n        ],\n        \"visible\": true,\n        \"ticks\": \"inside\",\n        \"range\": [\n            0.055566299733750546,\n            0.6424002149084095\n        ],\n        \"domain\": [\n            0.07581474190726165,\n            0.9901574803149606\n        ],\n        \"tickmode\": \"array\",\n        \"linecolor\": \"rgba(0, 0, 0, 1.000)\",\n        \"showgrid\": true,\n        \"title\": \"\",\n        \"mirror\": false,\n        \"tickangle\": 0,\n        \"showline\": true,\n        \"gridcolor\": \"rgba(0, 0, 0, 0.100)\",\n        \"titlefont\": {\n            \"color\": \"rgba(0, 0, 0, 1.000)\",\n            \"family\": \"sans-serif\",\n            \"size\": 15\n        },\n        \"tickcolor\": \"rgb(0, 0, 0)\",\n        \"ticktext\": [\n            \"0.1\",\n            \"0.2\",\n            \"0.3\",\n            \"0.4\",\n            \"0.5\",\n            \"0.6\"\n        ],\n        \"zeroline\": false,\n        \"type\": \"-\",\n        \"tickfont\": {\n            \"color\": \"rgba(0, 0, 0, 1.000)\",\n            \"family\": \"sans-serif\",\n            \"size\": 11\n        },\n        \"zerolinecolor\": \"rgba(0, 0, 0, 1.000)\",\n        \"anchor\": \"x\"\n    },\n    \"legend\": {\n        \"borderwidth\": 1,\n        \"tracegroupgap\": 0,\n        \"font\": {\n            \"color\": \"rgba(0, 0, 0, 1.000)\",\n            \"family\": \"sans-serif\",\n            \"size\": 11\n        },\n        \"title\": {\n            \"font\": {\n                \"color\": \"rgba(0, 0, 0, 1.000)\",\n                \"family\": \"sans-serif\",\n                \"size\": 15\n            },\n            \"text\": \"\"\n        },\n        \"traceorder\": \"normal\",\n        \"x\": 1.0,\n        \"yanchor\": \"auto\",\n        \"xanchor\": \"auto\",\n        \"bordercolor\": \"rgba(0, 0, 0, 1.000)\",\n        \"bgcolor\": \"rgba(255, 255, 255, 1.000)\",\n        \"y\": 1.0\n    },\n    \"width\": 600\n}\n);\n    });\n    </script>\n\n    </body>\n</html>\n",
      "application/vnd.plotly.v1+json": {
       "layout": {
        "showlegend": true,
        "xaxis": {
         "showticklabels": true,
         "gridwidth": 0.5,
         "tickvals": [
          0,
          0.2,
          0.4,
          0.6000000000000001,
          0.8,
          1
         ],
         "visible": true,
         "ticks": "inside",
         "range": [
          0,
          1
         ],
         "domain": [
          0.05100612423447069,
          0.9934383202099737
         ],
         "tickmode": "array",
         "linecolor": "rgba(0, 0, 0, 1.000)",
         "showgrid": true,
         "title": "t",
         "mirror": false,
         "tickangle": 0,
         "showline": true,
         "gridcolor": "rgba(0, 0, 0, 0.100)",
         "titlefont": {
          "color": "rgba(0, 0, 0, 1.000)",
          "family": "sans-serif",
          "size": 15
         },
         "tickcolor": "rgb(0, 0, 0)",
         "ticktext": [
          "0.0",
          "0.2",
          "0.4",
          "0.6",
          "0.8",
          "1.0"
         ],
         "zeroline": false,
         "type": "-",
         "tickfont": {
          "color": "rgba(0, 0, 0, 1.000)",
          "family": "sans-serif",
          "size": 11
         },
         "zerolinecolor": "rgba(0, 0, 0, 1.000)",
         "anchor": "y"
        },
        "paper_bgcolor": "rgba(255, 255, 255, 1.000)",
        "annotations": [],
        "height": 400,
        "margin": {
         "l": 0,
         "b": 20,
         "r": 0,
         "t": 20
        },
        "plot_bgcolor": "rgba(255, 255, 255, 1.000)",
        "yaxis": {
         "showticklabels": true,
         "gridwidth": 0.5,
         "tickvals": [
          0.1,
          0.2,
          0.30000000000000004,
          0.4,
          0.5,
          0.6000000000000001
         ],
         "visible": true,
         "ticks": "inside",
         "range": [
          0.055566299733750546,
          0.6424002149084095
         ],
         "domain": [
          0.07581474190726165,
          0.9901574803149606
         ],
         "tickmode": "array",
         "linecolor": "rgba(0, 0, 0, 1.000)",
         "showgrid": true,
         "title": "",
         "mirror": false,
         "tickangle": 0,
         "showline": true,
         "gridcolor": "rgba(0, 0, 0, 0.100)",
         "titlefont": {
          "color": "rgba(0, 0, 0, 1.000)",
          "family": "sans-serif",
          "size": 15
         },
         "tickcolor": "rgb(0, 0, 0)",
         "ticktext": [
          "0.1",
          "0.2",
          "0.3",
          "0.4",
          "0.5",
          "0.6"
         ],
         "zeroline": false,
         "type": "-",
         "tickfont": {
          "color": "rgba(0, 0, 0, 1.000)",
          "family": "sans-serif",
          "size": 11
         },
         "zerolinecolor": "rgba(0, 0, 0, 1.000)",
         "anchor": "x"
        },
        "legend": {
         "borderwidth": 1,
         "tracegroupgap": 0,
         "font": {
          "color": "rgba(0, 0, 0, 1.000)",
          "family": "sans-serif",
          "size": 11
         },
         "title": {
          "font": {
           "color": "rgba(0, 0, 0, 1.000)",
           "family": "sans-serif",
           "size": 15
          },
          "text": ""
         },
         "traceorder": "normal",
         "x": 1,
         "yanchor": "auto",
         "xanchor": "auto",
         "bordercolor": "rgba(0, 0, 0, 1.000)",
         "bgcolor": "rgba(255, 255, 255, 1.000)",
         "y": 1
        },
        "width": 600
       },
       "data": [
        {
         "xaxis": "x",
         "colorbar": {
          "title": ""
         },
         "yaxis": "y",
         "x": [
          0,
          0.05,
          0.1,
          0.15,
          0.2,
          0.25,
          0.3,
          0.35,
          0.4,
          0.45,
          0.5,
          0.55,
          0.6,
          0.65,
          0.7,
          0.75,
          0.8,
          0.85,
          0.9,
          0.95,
          1
         ],
         "showlegend": true,
         "mode": "lines",
         "name": "u1(t)",
         "zmin": null,
         "legendgroup": "u1(t)",
         "zmax": null,
         "line": {
          "color": "rgba(0, 154, 250, 1.000)",
          "shape": "linear",
          "dash": "solid",
          "width": 1
         },
         "y": [
          0.6257917078751645,
          0.5122950028113811,
          0.44345463482663255,
          0.4017016625427205,
          0.37637772781787593,
          0.3610196681446935,
          0.35169948393176753,
          0.3460530990881128,
          0.34262165429619396,
          0.34054774287463835,
          0.3392818344042545,
          0.33852287724900026,
          0.3380547016599249,
          0.3377736582404697,
          0.33760728383177424,
          0.3374997565760191,
          0.33743652426844295,
          0.3374021934545121,
          0.3373786930618089,
          0.3373639108661273,
          0.3373551072775948
         ],
         "type": "scatter"
        },
        {
         "xaxis": "x",
         "colorbar": {
          "title": ""
         },
         "yaxis": "y",
         "x": [
          0,
          0.05,
          0.1,
          0.15,
          0.2,
          0.25,
          0.3,
          0.35,
          0.4,
          0.45,
          0.5,
          0.55,
          0.6,
          0.65,
          0.7,
          0.75,
          0.8,
          0.85,
          0.9,
          0.95,
          1
         ],
         "showlegend": true,
         "mode": "lines",
         "name": "u2(t)",
         "zmin": null,
         "legendgroup": "u2(t)",
         "zmax": null,
         "line": {
          "color": "rgba(227, 111, 71, 1.000)",
          "shape": "linear",
          "dash": "solid",
          "width": 1
         },
         "y": [
          0.07217480676699561,
          0.14721969625786693,
          0.1980466216169032,
          0.2332213124415705,
          0.2581146033535708,
          0.27612624180308853,
          0.28943879840726194,
          0.2994635166192619,
          0.30714602605637653,
          0.3131116372194443,
          0.31780561614988556,
          0.3215261459023733,
          0.3245051050567922,
          0.32689872631652933,
          0.3288302199112063,
          0.33039954408747085,
          0.3316730854949122,
          0.33270768709793125,
          0.3335530732055359,
          0.33424327503069357,
          0.33480686619348554
         ],
         "type": "scatter"
        },
        {
         "xaxis": "x",
         "colorbar": {
          "title": ""
         },
         "yaxis": "y",
         "x": [
          0,
          0.05,
          0.1,
          0.15,
          0.2,
          0.25,
          0.3,
          0.35,
          0.4,
          0.45,
          0.5,
          0.55,
          0.6,
          0.65,
          0.7,
          0.75,
          0.8,
          0.85,
          0.9,
          0.95,
          1
         ],
         "showlegend": true,
         "mode": "lines",
         "name": "u3(t)",
         "zmin": null,
         "legendgroup": "u3(t)",
         "zmax": null,
         "line": {
          "color": "rgba(62, 164, 78, 1.000)",
          "shape": "linear",
          "dash": "solid",
          "width": 1
         },
         "y": [
          0.4505773085190672,
          0.4315982335201711,
          0.4138287803308324,
          0.39846172823703885,
          0.38574228061554433,
          0.37548493976035086,
          0.3673440383032259,
          0.36094087300780625,
          0.3559317137099724,
          0.35201871948979546,
          0.3489632854005777,
          0.34657224386626556,
          0.3446968263937743,
          0.3432211537331411,
          0.3420557298503958,
          0.34113108447009316,
          0.3403959414134065,
          0.3398097155957093,
          0.3393395178806295,
          0.33896163589676015,
          0.3386572668953584
         ],
         "type": "scatter"
        },
        {
         "xaxis": "x",
         "colorbar": {
          "title": ""
         },
         "yaxis": "y",
         "x": [
          0,
          0.05,
          0.1,
          0.15,
          0.2,
          0.25,
          0.3,
          0.35,
          0.4,
          0.45,
          0.5,
          0.55,
          0.6,
          0.65,
          0.7,
          0.75,
          0.8,
          0.85,
          0.9,
          0.95,
          1
         ],
         "showlegend": true,
         "mode": "lines",
         "name": "u4(t)",
         "zmin": null,
         "legendgroup": "u4(t)",
         "zmax": null,
         "line": {
          "color": "rgba(195, 113, 210, 1.000)",
          "shape": "linear",
          "dash": "solid",
          "width": 1
         },
         "y": [
          0.43029838343893534,
          0.3937225004492241,
          0.37153773972895626,
          0.35808226692143474,
          0.34992127869878575,
          0.34497193155042905,
          0.34196837327952634,
          0.3401487476680133,
          0.3390429171232028,
          0.3383745704831554,
          0.33796661396968275,
          0.33772202952919905,
          0.3375711534702417,
          0.33748058334118597,
          0.33742696688684487,
          0.3373923147414587,
          0.33737193725577075,
          0.3373608736761493,
          0.3373533003495647,
          0.3373485365825523,
          0.3373456995043845
         ],
         "type": "scatter"
        },
        {
         "xaxis": "x",
         "colorbar": {
          "title": ""
         },
         "yaxis": "y",
         "x": [
          0,
          0.05,
          0.1,
          0.15,
          0.2,
          0.25,
          0.3,
          0.35,
          0.4,
          0.45,
          0.5,
          0.55,
          0.6,
          0.65,
          0.7,
          0.75,
          0.8,
          0.85,
          0.9,
          0.95,
          1
         ],
         "showlegend": true,
         "mode": "lines",
         "name": "u5(t)",
         "zmin": null,
         "legendgroup": "u5(t)",
         "zmax": null,
         "line": {
          "color": "rgba(172, 142, 24, 1.000)",
          "shape": "linear",
          "dash": "solid",
          "width": 1
         },
         "y": [
          0.10786392392132527,
          0.20187069748284486,
          0.2598383540181636,
          0.2952391603787235,
          0.3165502400357113,
          0.3291033492629263,
          0.33625543659970664,
          0.34009989413829383,
          0.3419638193357425,
          0.34265346045445455,
          0.34268878059708757,
          0.34236283397464995,
          0.3418783439407549,
          0.34133200889016196,
          0.34078593004126706,
          0.34028343064644656,
          0.339828642088956,
          0.3394256606971863,
          0.3390815460239494,
          0.338788772145355,
          0.33854119065066496
         ],
         "type": "scatter"
        }
       ]
      }
     },
     "metadata": {},
     "execution_count": 15
    }
   ],
   "source": [
    "using Plots\n",
    "plotly()\n",
    "plot(sol)"
   ]
  },
  {
   "source": [
    "### Inference\n",
    "\n",
    "Now that we have a model, we generate some data and start to using `Turing` to perform inference.\n",
    "To do this, we should define a generative model.\n",
    "\n",
    "Our data $\\mathbf{y}$ is given by a normal distribution centered around our model $f(\\mathbf{u0}, \\rho)$ with variance $\\sigma$. \n",
    "\n",
    "$$\\mathbf{y} = \\mathcal{N}(f(\\mathbf{u0}, \\rho), \\sigma)$$\n",
    "\n",
    "and we assume our paramters are generated from the following distributions: \n",
    "\n",
    "$$\\sigma \\approx \\Gamma^{-1}(2, 3)$$ \n",
    "$$\\rho \\approx \\mathcal{N}(5,.10.[0,10])$$\n",
    "\n",
    "We can make this into a `Turing` model. \n",
    "\n",
    "\n",
    "\n"
   ],
   "cell_type": "markdown",
   "metadata": {}
  },
  {
   "cell_type": "code",
   "execution_count": 21,
   "metadata": {},
   "outputs": [
    {
     "output_type": "execute_result",
     "data": {
      "text/plain": [
       "fit (generic function with 1 method)"
      ]
     },
     "metadata": {},
     "execution_count": 21
    }
   ],
   "source": [
    "using Turing\n",
    "Turing.setadbackend(:forwarddiff)\n",
    "@model function fit(data, prob)\n",
    "    σ ~ InverseGamma(2, 3) # ~ is the tilde character\n",
    "    ρ ~ truncated(Normal(5,10.0),0.0,10)\n",
    "\n",
    "    prob = remake(problem, p=ρ)\n",
    "    predicted = solve(prob, Tsit5(),saveat=0.05)\n",
    "\n",
    "    for i = 1:length(predicted)\n",
    "        data[:,i] ~ MvNormal(predicted[i], σ)\n",
    "    end\n",
    "end"
   ]
  },
  {
   "source": [
    "To fit this model, we first need to generate some data. We can then feed in our data and our model into the `Turing` model and begin to sample from it. \n",
    "\n",
    "For now, we'll just use the data generated form our ODE solution above. "
   ],
   "cell_type": "markdown",
   "metadata": {}
  },
  {
   "cell_type": "code",
   "execution_count": 18,
   "metadata": {},
   "outputs": [
    {
     "output_type": "execute_result",
     "data": {
      "text/plain": [
       "5×21 Array{Float64,2}:\n",
       " 0.625792   0.512295  0.443455  0.401702  …  0.337379  0.337364  0.337355\n",
       " 0.0721748  0.14722   0.198047  0.233221     0.333553  0.334243  0.334807\n",
       " 0.450577   0.431598  0.413829  0.398462     0.33934   0.338962  0.338657\n",
       " 0.430298   0.393723  0.371538  0.358082     0.337353  0.337349  0.337346\n",
       " 0.107864   0.201871  0.259838  0.295239     0.339082  0.338789  0.338541"
      ]
     },
     "metadata": {},
     "execution_count": 18
    }
   ],
   "source": [
    "data = Array(sol)"
   ]
  },
  {
   "cell_type": "code",
   "execution_count": 22,
   "metadata": {},
   "outputs": [
    {
     "output_type": "execute_result",
     "data": {
      "text/plain": [
       "DynamicPPL.Model{var\"#7#8\",(:data, :prob),(),(),Tuple{Array{Float64,2},ODEProblem{Array{Float64,1},Tuple{Float64,Float64},false,Float64,ODEFunction{false,typeof(NetworkDiffusion),LinearAlgebra.UniformScaling{Bool},Nothing,Nothing,Nothing,Nothing,Nothing,Nothing,Nothing,Nothing,Nothing,Nothing,Nothing,Nothing,typeof(SciMLBase.DEFAULT_OBSERVED),Nothing},Base.Iterators.Pairs{Union{},Union{},Tuple{},NamedTuple{(),Tuple{}}},SciMLBase.StandardODEProblem}},Tuple{}}(:fit, var\"#7#8\"(), (data = [0.6257917078751645 0.5122950028113811 … 0.3373639108661273 0.3373551072775948; 0.07217480676699561 0.14721969625786693 … 0.33424327503069357 0.33480686619348554; … ; 0.43029838343893534 0.3937225004492241 … 0.3373485365825523 0.3373456995043845; 0.10786392392132527 0.20187069748284486 … 0.338788772145355 0.33854119065066496], prob = \u001b[36mODEProblem\u001b[0m with uType \u001b[36mArray{Float64,1}\u001b[0m and tType \u001b[36mFloat64\u001b[0m. In-place: \u001b[36mfalse\u001b[0m\n",
       "timespan: (0.0, 1.0)\n",
       "u0: [0.6257917078751645, 0.07217480676699561, 0.4505773085190672, 0.43029838343893534, 0.10786392392132527]), NamedTuple())"
      ]
     },
     "metadata": {},
     "execution_count": 22
    }
   ],
   "source": [
    "model = fit(data, problem)"
   ]
  },
  {
   "cell_type": "code",
   "execution_count": 23,
   "metadata": {},
   "outputs": [
    {
     "output_type": "stream",
     "name": "stderr",
     "text": [
      "┌ Info: Found initial step size\n",
      "│   ϵ = 0.4\n",
      "└ @ Turing.Inference /home/chaggar/.julia/packages/Turing/XLLTf/src/inference/hmc.jl:188\n",
      "\u001b[32mSampling: 100%|█████████████████████████████████████████| Time: 0:00:02\u001b[39m\n"
     ]
    },
    {
     "output_type": "execute_result",
     "data": {
      "text/plain": [
       "Chains MCMC chain (1000×14×1 Array{Float64,3}):\n",
       "\n",
       "Iterations        = 1:1000\n",
       "Thinning interval = 1\n",
       "Chains            = 1\n",
       "Samples per chain = 1000\n",
       "parameters        = ρ, σ\n",
       "internals         = acceptance_rate, hamiltonian_energy, hamiltonian_energy_error, is_accept, log_density, lp, max_hamiltonian_energy_error, n_steps, nom_step_size, numerical_error, step_size, tree_depth\n",
       "\n",
       "Summary Statistics\n",
       " \u001b[1m parameters \u001b[0m \u001b[1m    mean \u001b[0m \u001b[1m     std \u001b[0m \u001b[1m naive_se \u001b[0m \u001b[1m    mcse \u001b[0m \u001b[1m       ess \u001b[0m \u001b[1m    rhat \u001b[0m\n",
       " \u001b[90m     Symbol \u001b[0m \u001b[90m Float64 \u001b[0m \u001b[90m Float64 \u001b[0m \u001b[90m  Float64 \u001b[0m \u001b[90m Float64 \u001b[0m \u001b[90m   Float64 \u001b[0m \u001b[90m Float64 \u001b[0m\n",
       "\n",
       "           ρ    2.0323    0.1578     0.0050    0.0041    910.6086    1.0007\n",
       "           σ    0.0285    0.0026     0.0001    0.0001   1055.8662    0.9990\n",
       "\n",
       "Quantiles\n",
       " \u001b[1m parameters \u001b[0m \u001b[1m    2.5% \u001b[0m \u001b[1m   25.0% \u001b[0m \u001b[1m   50.0% \u001b[0m \u001b[1m   75.0% \u001b[0m \u001b[1m   97.5% \u001b[0m\n",
       " \u001b[90m     Symbol \u001b[0m \u001b[90m Float64 \u001b[0m \u001b[90m Float64 \u001b[0m \u001b[90m Float64 \u001b[0m \u001b[90m Float64 \u001b[0m \u001b[90m Float64 \u001b[0m\n",
       "\n",
       "           ρ    1.7493    1.9218    2.0218    2.1335    2.3729\n",
       "           σ    0.0238    0.0267    0.0284    0.0303    0.0340\n"
      ]
     },
     "metadata": {},
     "execution_count": 23
    }
   ],
   "source": [
    "chain = sample(model, NUTS(0.65), 1000)"
   ]
  },
  {
   "cell_type": "code",
   "execution_count": null,
   "metadata": {},
   "outputs": [],
   "source": []
  }
 ],
 "metadata": {
  "kernelspec": {
   "name": "julia-1.5",
   "display_name": "Julia 1.5.3",
   "language": "julia"
  }
 },
 "nbformat": 4,
 "nbformat_minor": 4
}