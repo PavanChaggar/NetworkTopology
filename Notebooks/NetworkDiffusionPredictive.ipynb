{
 "cells": [
  {
   "cell_type": "markdown",
   "metadata": {},
   "source": [
    "# Prior and Posterior Predictive Check\n",
    "\n",
    "In this notebook, we will examine the prior and posterior predictive distributions. This will tell us how well defined our priors are and whether or not they can capture some given data. In addition, we will look at the posterior predictive distribution, to see how well samples from our posterior capture our data after optimisation. "
   ]
  },
  {
   "cell_type": "markdown",
   "metadata": {},
   "source": [
    "# Environment"
   ]
  },
  {
   "cell_type": "markdown",
   "metadata": {},
   "source": [
    "Make sure the environment is correct and print for posterity."
   ]
  },
  {
   "cell_type": "code",
   "execution_count": 1,
   "metadata": {},
   "outputs": [],
   "source": [
    "using Pkg"
   ]
  },
  {
   "cell_type": "raw",
   "metadata": {},
   "source": [
    "Pkg.status()"
   ]
  },
  {
   "cell_type": "code",
   "execution_count": 3,
   "metadata": {},
   "outputs": [],
   "source": [
    "using Random\n",
    "using DifferentialEquations\n",
    "using Turing \n",
    "using Plots\n",
    "using StatsPlots\n",
    "using MCMCChains\n",
    "using LightGraphs\n",
    "using Base.Threads\n",
    "\n",
    "Turing.setadbackend(:forwarddiff)\n",
    "\n",
    "Random.seed!(1);"
   ]
  },
  {
   "cell_type": "markdown",
   "metadata": {},
   "source": [
    "# Setting Up Model"
   ]
  },
  {
   "cell_type": "code",
   "execution_count": 4,
   "metadata": {},
   "outputs": [],
   "source": [
    "function make_graph(N::Int64, P::Float64)\n",
    "    G = erdos_renyi(N, P)\n",
    "    L = laplacian_matrix(G)\n",
    "    A = adjacency_matrix(G)\n",
    "    return L, A\n",
    "end\n",
    "\n",
    "N = 5\n",
    "P = 0.5\n",
    "L, A = make_graph(N, P);"
   ]
  },
  {
   "cell_type": "markdown",
   "metadata": {},
   "source": [
    "The second step of the modelling process will be to define the ODE model. For network diffusion, this is given by: \n",
    "\n",
    "$$ \\frac{d\\mathbf{u}}{dt} = -\\rho \\mathbf{L} \\mathbf{u} $$ \n",
    "\n",
    "We can set this up as a julia function as follows:"
   ]
  },
  {
   "cell_type": "code",
   "execution_count": null,
   "metadata": {},
   "outputs": [],
   "source": []
  }
 ],
 "metadata": {
  "kernelspec": {
   "display_name": "Julia 1.5.3",
   "language": "julia",
   "name": "julia-1.5"
  },
  "language_info": {
   "file_extension": ".jl",
   "mimetype": "application/julia",
   "name": "julia",
   "version": "1.5.3"
  },
  "orig_nbformat": 2
 },
 "nbformat": 4,
 "nbformat_minor": 2
}